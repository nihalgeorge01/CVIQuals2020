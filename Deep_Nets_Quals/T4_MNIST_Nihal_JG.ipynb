{
 "cells": [
  {
   "cell_type": "markdown",
   "metadata": {
    "colab_type": "text",
    "id": "8PysRfCI1eQy"
   },
   "source": [
    "In this notebook we will be doing the following tasks:\n",
    "1.   Define a small convolutional neural network and train in on MNIST digit dataset (as a classification task).\n",
    "2.   (Bonus) Take the trained network, freeze all of its weights and learn the image which gives the output of a particular digit. (This will be defined better, when we reach that task).\n",
    "3.   (Bonus) Try the same on a different dataset (like MNIST fashion dataset).\n",
    "4.   (Bonus) Try to formulate the MNIST classification problem as a regression problem instead. (i.e. Have 1 output unit which outputs a floating point value and you round it off to obtain the digit.)"
   ]
  },
  {
   "cell_type": "code",
   "execution_count": 39,
   "metadata": {
    "colab": {},
    "colab_type": "code",
    "id": "aNntDX8oAsDZ"
   },
   "outputs": [],
   "source": [
    "## Imports\n",
    "\n",
    "import torch \n",
    "import torchvision\n",
    "import torch.nn as nn\n",
    "import torch.nn.functional as F\n",
    "import torch.utils.data\n",
    "from torch.autograd import Variable\n",
    "import numpy as np\n",
    "from matplotlib import pyplot as plt\n",
    "\n",
    "# Using GPU\n",
    "device = 'cuda' #Change this to 'cpu' to run on cpu. "
   ]
  },
  {
   "cell_type": "markdown",
   "metadata": {
    "colab_type": "text",
    "id": "nfynPVQmAZL9"
   },
   "source": [
    "Here we will download the MNIST digit dataset and convert it into PyTorch dataset object. \n",
    "\n",
    "torchvision module of PyTorch provides several Computer Vision specific functionalities one of which is easy importing of several [popular datasets](https://pytorch.org/docs/stable/torchvision/datasets.html). "
   ]
  },
  {
   "cell_type": "code",
   "execution_count": 40,
   "metadata": {
    "colab": {
     "base_uri": "https://localhost:8080/",
     "height": 574
    },
    "colab_type": "code",
    "id": "kPT0_Ob9BDUG",
    "outputId": "286543a5-41b1-4434-c335-96839438892d"
   },
   "outputs": [
    {
     "name": "stdout",
     "output_type": "stream",
     "text": [
      "Dataset MNIST\n",
      "    Number of datapoints: 60000\n",
      "    Root location: ./data\n",
      "    Split: Train\n",
      "    StandardTransform\n",
      "Transform: Compose(\n",
      "               ToTensor()\n",
      "           )\n",
      "Dataset MNIST\n",
      "    Number of datapoints: 10000\n",
      "    Root location: ./data\n",
      "    Split: Test\n",
      "    StandardTransform\n",
      "Transform: Compose(\n",
      "               ToTensor()\n",
      "           )\n"
     ]
    },
    {
     "data": {
      "text/plain": [
       "<matplotlib.image.AxesImage at 0x7fd17016ee10>"
      ]
     },
     "execution_count": 40,
     "metadata": {},
     "output_type": "execute_result"
    },
    {
     "data": {
      "image/png": "[encoded data removed]",
      "text/plain": [
       "<Figure size 432x288 with 1 Axes>"
      ]
     },
     "metadata": {
      "needs_background": "light"
     },
     "output_type": "display_data"
    }
   ],
   "source": [
    "#Loading the MNIST dataset here.\n",
    "\n",
    "#This creates a transform object which will be passed to the later functions. It converts the training image from PIL Image objects to PyTorch image objects.\n",
    "transform = torchvision.transforms.Compose([torchvision.transforms.ToTensor()])\n",
    "\n",
    "train_data = torchvision.datasets.MNIST(root = './data', train = True, download = True, transform = transform )\n",
    "\n",
    "test_data = torchvision.datasets.MNIST(root = './data',train = False ,download = True,  transform = transform)\n",
    "\n",
    "print(train_data)\n",
    "print(test_data)\n",
    "\n",
    "plt.imshow(np.asarray(train_data[1][0].reshape(28,28)))"
   ]
  },
  {
   "cell_type": "markdown",
   "metadata": {
    "colab_type": "text",
    "id": "NpqZ4LD-F0SH"
   },
   "source": [
    "The following cell converts the DataSet objects to DataLoader objects. \n",
    "DataLoader objects in PyTorch provide several useful functionalities, such as automatic batching, parallel data processing on the CPU, etc. Therefore it is generally advisable to use dataloader instead of manually handling data. \n",
    "\n",
    "Read more about PyTorch DataSet and DataLoader [here](https://pytorch.org/docs/stable/data.html#torch.utils.data.DataLoader)"
   ]
  },
  {
   "cell_type": "code",
   "execution_count": 41,
   "metadata": {
    "colab": {
     "base_uri": "https://localhost:8080/",
     "height": 35
    },
    "colab_type": "code",
    "id": "xRmiRtSDB_QV",
    "outputId": "742c6b79-d308-46b4-e05a-11b5c40c10ce"
   },
   "outputs": [
    {
     "name": "stdout",
     "output_type": "stream",
     "text": [
      "<torch.utils.data.dataloader.DataLoader object at 0x7fd1700e85f8>\n"
     ]
    }
   ],
   "source": [
    "#BATCHs are only used for training, while testing we conventionally use a batch size of 1.  \n",
    "BATCH_SIZE = 32 \n",
    "train_loader = torch.utils.data.DataLoader (train_data, batch_size = BATCH_SIZE, )\n",
    "test_loader = torch.utils.data.DataLoader (test_data, batch_size = 1, )\n",
    "\n",
    "print(train_loader)"
   ]
  },
  {
   "cell_type": "markdown",
   "metadata": {
    "colab_type": "text",
    "id": "pMeoiIqrd-v7"
   },
   "source": [
    "**TASK 1**\n",
    "\n",
    "We will define our network in the following cell. There are several ways of doing this in PyTorch, but in this example we will do it by subclassing nn.module. You should be able to do this after reading the tutorials given at the top of the page. [This](https://pytorch.org/tutorials/beginner/blitz/cifar10_tutorial.html) is extra reading to help you out. (Do remember that we are dealing with 1 channel B/W images not 3 channels colour images.)\n",
    "\n",
    "[Here](https://pytorch.org/docs/stable/nn.html) are official docs of nn module to help you out. \n",
    "\n",
    "Our network will have 4 convolutional layers followed by 2 fully-connected layers. (You free to change make slight changes to this but don't make the network too deep in the final submission). \n",
    "\n",
    "Don't forget to have ReLU activations and maxpooling layers.\n",
    "\n",
    "Experiment with different kernal sizes, width and sizes of hidden fully connected units. \n"
   ]
  },
  {
   "cell_type": "code",
   "execution_count": 42,
   "metadata": {
    "colab": {},
    "colab_type": "code",
    "id": "JHW6Cku-CJSM"
   },
   "outputs": [],
   "source": [
    "class MyConvNet(nn.Module):\n",
    "    def __init__(self):\n",
    "        \"\"\" \n",
    "          Initializes all the weights for each layer\n",
    "        \"\"\" \n",
    "\n",
    "        super(MyConvNet, self).__init__()\n",
    "\n",
    "        self.conv1 = nn.Conv2d(1, 128, kernel_size=5)\n",
    "        self.conv2 = nn.Conv2d(128, 64, kernel_size=5)\n",
    "        self.conv3 = nn.Conv2d(64,32, kernel_size=3)\n",
    "        self.conv4 = nn.Conv2d(32,16, kernel_size=3)\n",
    "\n",
    "        self.fc1 = nn.Linear(8 * 8 * 1, 256)\n",
    "        self.fc2 = nn.Linear(256, 10)\n",
    "\n",
    "    def forward (self, x):\n",
    "        \"\"\"\n",
    "        Defines a forward pass for the given network. x is a 4 dimentional input tensor. \n",
    "        Input: x.size() = [BATCH_SIZE, 1, 28, 28]\n",
    "\n",
    "        Returns a 2-dimentional, 10-unit output tensor representing the probability. \n",
    "        Output: x.size() = [BATCH_SIZE, 10] \n",
    "        \"\"\"\n",
    "\n",
    "        x = F.relu(self.conv1(x))\n",
    "\n",
    "        x = F.relu(F.max_pool2d(self.conv2(x), 2))\n",
    "\n",
    "        x = F.relu(F.max_pool2d(self.conv3(x),2))\n",
    "\n",
    "        x = F.relu(F.max_pool2d(self.conv4(x),1))\n",
    "\n",
    "        x = x.view(-1,8*8*1 )\n",
    "\n",
    "        x = F.relu(self.fc1(x))\n",
    "\n",
    "        x = self.fc2(x)\n",
    "\n",
    "        #Return softmax of x, so no activation.\n",
    "        return F.softmax(x, dim = 1) \n"
   ]
  },
  {
   "cell_type": "markdown",
   "metadata": {
    "colab_type": "text",
    "id": "05mzNPxSPIXu"
   },
   "source": [
    "The following cell will instantiate the the network we defined above.\n",
    "Check the size of the output tensor (it should be [BATCH_SIZE, 10]) and see if the values in the output tensor printed below are numbers between 0 and 1. (Infact most values should be close to 0.1. Why?)"
   ]
  },
  {
   "cell_type": "code",
   "execution_count": 43,
   "metadata": {
    "colab": {},
    "colab_type": "code",
    "id": "8ia3HNIN3B2x"
   },
   "outputs": [
    {
     "name": "stdout",
     "output_type": "stream",
     "text": [
      "MyConvNet(\n",
      "  (conv1): Conv2d(1, 128, kernel_size=(5, 5), stride=(1, 1))\n",
      "  (conv2): Conv2d(128, 64, kernel_size=(5, 5), stride=(1, 1))\n",
      "  (conv3): Conv2d(64, 32, kernel_size=(3, 3), stride=(1, 1))\n",
      "  (conv4): Conv2d(32, 16, kernel_size=(3, 3), stride=(1, 1))\n",
      "  (fc1): Linear(in_features=64, out_features=256, bias=True)\n",
      "  (fc2): Linear(in_features=256, out_features=10, bias=True)\n",
      ")\n",
      "Size of the output tensor: torch.Size([32, 10])\n",
      "tensor([[0.1018, 0.0968, 0.0995, 0.1031, 0.0987, 0.1059, 0.0999, 0.1024, 0.0941,\n",
      "         0.0977],\n",
      "        [0.1018, 0.0968, 0.0993, 0.1031, 0.0987, 0.1059, 0.1003, 0.1023, 0.0940,\n",
      "         0.0978],\n",
      "        [0.1018, 0.0970, 0.0993, 0.1031, 0.0985, 0.1060, 0.1001, 0.1022, 0.0940,\n",
      "         0.0979],\n",
      "        [0.1017, 0.0969, 0.0994, 0.1031, 0.0987, 0.1059, 0.1002, 0.1021, 0.0940,\n",
      "         0.0979],\n",
      "        [0.1019, 0.0970, 0.0996, 0.1029, 0.0986, 0.1059, 0.1001, 0.1023, 0.0940,\n",
      "         0.0977],\n",
      "        [0.1018, 0.0970, 0.0994, 0.1030, 0.0986, 0.1059, 0.1000, 0.1024, 0.0941,\n",
      "         0.0980],\n",
      "        [0.1020, 0.0968, 0.0994, 0.1028, 0.0987, 0.1061, 0.1001, 0.1024, 0.0940,\n",
      "         0.0976],\n",
      "        [0.1019, 0.0969, 0.0996, 0.1030, 0.0986, 0.1056, 0.1001, 0.1025, 0.0939,\n",
      "         0.0979],\n",
      "        [0.1018, 0.0968, 0.0994, 0.1030, 0.0987, 0.1063, 0.1000, 0.1022, 0.0941,\n",
      "         0.0977],\n",
      "        [0.1019, 0.0968, 0.0993, 0.1030, 0.0986, 0.1059, 0.1004, 0.1023, 0.0939,\n",
      "         0.0978],\n",
      "        [0.1018, 0.0970, 0.0995, 0.1031, 0.0986, 0.1059, 0.0997, 0.1023, 0.0940,\n",
      "         0.0979],\n",
      "        [0.1019, 0.0969, 0.0994, 0.1030, 0.0985, 0.1059, 0.1002, 0.1023, 0.0940,\n",
      "         0.0980],\n",
      "        [0.1020, 0.0969, 0.0995, 0.1030, 0.0986, 0.1060, 0.0999, 0.1025, 0.0940,\n",
      "         0.0976],\n",
      "        [0.1018, 0.0969, 0.0994, 0.1031, 0.0986, 0.1060, 0.1001, 0.1020, 0.0941,\n",
      "         0.0979],\n",
      "        [0.1019, 0.0968, 0.0993, 0.1030, 0.0988, 0.1061, 0.1002, 0.1023, 0.0940,\n",
      "         0.0977],\n",
      "        [0.1017, 0.0968, 0.0994, 0.1030, 0.0987, 0.1060, 0.1002, 0.1022, 0.0941,\n",
      "         0.0978],\n",
      "        [0.1019, 0.0969, 0.0992, 0.1031, 0.0986, 0.1057, 0.1001, 0.1025, 0.0941,\n",
      "         0.0980],\n",
      "        [0.1018, 0.0969, 0.0997, 0.1028, 0.0988, 0.1061, 0.0999, 0.1024, 0.0941,\n",
      "         0.0977],\n",
      "        [0.1018, 0.0969, 0.0994, 0.1033, 0.0986, 0.1060, 0.1001, 0.1021, 0.0941,\n",
      "         0.0979],\n",
      "        [0.1020, 0.0968, 0.0994, 0.1029, 0.0987, 0.1059, 0.1000, 0.1024, 0.0940,\n",
      "         0.0978],\n",
      "        [0.1020, 0.0970, 0.0995, 0.1029, 0.0984, 0.1058, 0.1001, 0.1022, 0.0940,\n",
      "         0.0980],\n",
      "        [0.1018, 0.0970, 0.0995, 0.1031, 0.0986, 0.1059, 0.0999, 0.1022, 0.0941,\n",
      "         0.0979],\n",
      "        [0.1019, 0.0968, 0.0994, 0.1030, 0.0987, 0.1059, 0.1003, 0.1024, 0.0939,\n",
      "         0.0978],\n",
      "        [0.1017, 0.0969, 0.0993, 0.1032, 0.0987, 0.1059, 0.1002, 0.1021, 0.0940,\n",
      "         0.0979],\n",
      "        [0.1018, 0.0969, 0.0994, 0.1031, 0.0987, 0.1060, 0.1001, 0.1022, 0.0940,\n",
      "         0.0979],\n",
      "        [0.1017, 0.0969, 0.0996, 0.1030, 0.0986, 0.1058, 0.0999, 0.1023, 0.0941,\n",
      "         0.0981],\n",
      "        [0.1019, 0.0968, 0.0994, 0.1030, 0.0987, 0.1056, 0.1004, 0.1023, 0.0939,\n",
      "         0.0979],\n",
      "        [0.1019, 0.0969, 0.0994, 0.1031, 0.0986, 0.1059, 0.0998, 0.1025, 0.0940,\n",
      "         0.0978],\n",
      "        [0.1019, 0.0969, 0.0992, 0.1030, 0.0986, 0.1060, 0.1001, 0.1024, 0.0941,\n",
      "         0.0979],\n",
      "        [0.1017, 0.0969, 0.0993, 0.1031, 0.0987, 0.1059, 0.1003, 0.1021, 0.0940,\n",
      "         0.0979],\n",
      "        [0.1019, 0.0970, 0.0993, 0.1030, 0.0986, 0.1061, 0.0998, 0.1024, 0.0941,\n",
      "         0.0979],\n",
      "        [0.1018, 0.0970, 0.0997, 0.1027, 0.0986, 0.1061, 0.0999, 0.1023, 0.0940,\n",
      "         0.0980]], device='cuda:0', grad_fn=<SoftmaxBackward>)\n"
     ]
    }
   ],
   "source": [
    "#Setting few things up.\n",
    "\n",
    "net = MyConvNet()\n",
    "net.cuda()\n",
    "net.to(device)\n",
    "print(net)\n",
    "tld = iter(train_loader)\n",
    "im = next(tld)[0].to(device)\n",
    "print ('Size of the output tensor:' ,net.forward(im).size())\n",
    "print (net.forward(im))"
   ]
  },
  {
   "cell_type": "markdown",
   "metadata": {
    "colab_type": "text",
    "id": "8xIdHy0wRMX1"
   },
   "source": [
    "The following cell will define the training and the testing loop. "
   ]
  },
  {
   "cell_type": "code",
   "execution_count": 44,
   "metadata": {
    "colab": {},
    "colab_type": "code",
    "id": "XYgE1F24lXn7"
   },
   "outputs": [],
   "source": [
    "def train(model, train_loader, EPOCHS = 6, lossF = None):\n",
    "  \n",
    "    if lossF == None:\n",
    "        lossF = nn.CrossEntropyLoss() #Cross entropy loss is popularly used for classification tasks. \n",
    "\n",
    "    ## It is not very sensitive to hyperparameters and therefore it becomes a natural choice in quick experiments.\n",
    "    optim = torch.optim.Adam (model.parameters(), lr = 4e-4, weight_decay=1e-3) \n",
    "\n",
    "    model.train() #Changes the model to train mode. All the require_grad are set to true.\n",
    "\n",
    "    for epoch in range(EPOCHS):\n",
    "        correct = 0\n",
    "        for batch_idx, (X_batch, y_batch) in enumerate(train_loader):\n",
    "\n",
    "            #Move data to device\n",
    "            var_X_batch = Variable(X_batch).to(device) \n",
    "            var_y_batch = Variable(y_batch).to(device)\n",
    "\n",
    "            ## Forward Pass\n",
    "            output = model(var_X_batch)\n",
    "\n",
    "            ## Calculate the loss incurred\n",
    "            loss = lossF (output, var_y_batch)\n",
    "\n",
    "            ## BackProp: Computes all gradients.\n",
    "            loss.backward()\n",
    "\n",
    "            ## Gradient Descent Step (Adam)\n",
    "            optim.step()\n",
    "            optim.zero_grad() # This is important because PyTorch keeps on adding to the original value of gradient.\n",
    "\n",
    "            ## Gets the predictions. From probablities (the digit with highest probablity is the prediction) \n",
    "            predicted = torch.max(output.data, axis = 1).indices\n",
    "\n",
    "            ## Calculates the number of correct predictions in a batch\n",
    "            correct += (predicted == var_y_batch).sum()\n",
    "\n",
    "            if (batch_idx % 200) == 0:\n",
    "                print('Epoch : {} [{}/{} ({:.0f}%)]\\tLoss: {:.6f}\\t Accuracy:{:.3f}%'.format(\n",
    "                        epoch, batch_idx*len(X_batch), len(train_loader.dataset), 100.*batch_idx / len(train_loader), loss.item(), float(correct*100) / float(BATCH_SIZE*(batch_idx+1))))\n",
    "\n",
    "\n",
    "\n",
    "def test(model, test_loader):\n",
    "\n",
    "    correct = 0 \n",
    "    \n",
    "    for test_imgs, test_labels in test_loader:\n",
    "        \n",
    "        test_imgs = Variable(test_imgs).float()\n",
    "        test_imgs = Variable(test_imgs).to(device) \n",
    "        test_labels = Variable(test_labels).to(device) \n",
    "        output = model(test_imgs)\n",
    "        predicted = torch.max(output,1)[1]\n",
    "        correct += (predicted == test_labels).sum()\n",
    "    \n",
    "    \n",
    "    print(\"Test accuracy:{:.3f}% \".format( float(correct * 100) / (len(test_loader))))\n",
    "\n"
   ]
  },
  {
   "cell_type": "markdown",
   "metadata": {
    "colab_type": "text",
    "id": "KIP2LRsXUBfu"
   },
   "source": [
    "Running the following cell will start training of the \"net\". "
   ]
  },
  {
   "cell_type": "code",
   "execution_count": 45,
   "metadata": {
    "colab": {},
    "colab_type": "code",
    "id": "snnWa2Cx46lt"
   },
   "outputs": [
    {
     "name": "stdout",
     "output_type": "stream",
     "text": [
      "Epoch : 0 [0/60000 (0%)]\tLoss: 2.302924\t Accuracy:6.250%\n",
      "Epoch : 0 [6400/60000 (11%)]\tLoss: 1.809807\t Accuracy:57.898%\n",
      "Epoch : 0 [12800/60000 (21%)]\tLoss: 1.744345\t Accuracy:65.983%\n",
      "Epoch : 0 [19200/60000 (32%)]\tLoss: 1.730702\t Accuracy:69.228%\n",
      "Epoch : 0 [25600/60000 (43%)]\tLoss: 1.644107\t Accuracy:72.940%\n",
      "Epoch : 0 [32000/60000 (53%)]\tLoss: 1.585843\t Accuracy:76.049%\n",
      "Epoch : 0 [38400/60000 (64%)]\tLoss: 1.554121\t Accuracy:78.877%\n",
      "Epoch : 0 [44800/60000 (75%)]\tLoss: 1.504825\t Accuracy:80.960%\n",
      "Epoch : 0 [51200/60000 (85%)]\tLoss: 1.516807\t Accuracy:82.497%\n",
      "Epoch : 0 [57600/60000 (96%)]\tLoss: 1.499988\t Accuracy:83.913%\n",
      "Epoch : 1 [0/60000 (0%)]\tLoss: 1.508312\t Accuracy:96.875%\n",
      "Epoch : 1 [6400/60000 (11%)]\tLoss: 1.529003\t Accuracy:95.802%\n",
      "Epoch : 1 [12800/60000 (21%)]\tLoss: 1.475108\t Accuracy:95.363%\n",
      "Epoch : 1 [19200/60000 (32%)]\tLoss: 1.483818\t Accuracy:95.429%\n",
      "Epoch : 1 [25600/60000 (43%)]\tLoss: 1.478641\t Accuracy:95.705%\n",
      "Epoch : 1 [32000/60000 (53%)]\tLoss: 1.494600\t Accuracy:95.736%\n",
      "Epoch : 1 [38400/60000 (64%)]\tLoss: 1.499947\t Accuracy:95.860%\n",
      "Epoch : 1 [44800/60000 (75%)]\tLoss: 1.498237\t Accuracy:95.882%\n",
      "Epoch : 1 [51200/60000 (85%)]\tLoss: 1.483819\t Accuracy:95.809%\n",
      "Epoch : 1 [57600/60000 (96%)]\tLoss: 1.493536\t Accuracy:95.877%\n",
      "Epoch : 2 [0/60000 (0%)]\tLoss: 1.491915\t Accuracy:96.875%\n",
      "Epoch : 2 [6400/60000 (11%)]\tLoss: 1.485809\t Accuracy:96.859%\n",
      "Epoch : 2 [12800/60000 (21%)]\tLoss: 1.467600\t Accuracy:96.524%\n",
      "Epoch : 2 [19200/60000 (32%)]\tLoss: 1.461626\t Accuracy:96.495%\n",
      "Epoch : 2 [25600/60000 (43%)]\tLoss: 1.463298\t Accuracy:96.618%\n",
      "Epoch : 2 [32000/60000 (53%)]\tLoss: 1.465349\t Accuracy:96.619%\n",
      "Epoch : 2 [38400/60000 (64%)]\tLoss: 1.503178\t Accuracy:96.680%\n",
      "Epoch : 2 [44800/60000 (75%)]\tLoss: 1.506642\t Accuracy:96.730%\n",
      "Epoch : 2 [51200/60000 (85%)]\tLoss: 1.483460\t Accuracy:96.676%\n",
      "Epoch : 2 [57600/60000 (96%)]\tLoss: 1.503554\t Accuracy:96.722%\n",
      "Epoch : 3 [0/60000 (0%)]\tLoss: 1.469132\t Accuracy:100.000%\n",
      "Epoch : 3 [6400/60000 (11%)]\tLoss: 1.464249\t Accuracy:97.512%\n",
      "Epoch : 3 [12800/60000 (21%)]\tLoss: 1.464253\t Accuracy:97.296%\n",
      "Epoch : 3 [19200/60000 (32%)]\tLoss: 1.462707\t Accuracy:97.208%\n",
      "Epoch : 3 [25600/60000 (43%)]\tLoss: 1.479056\t Accuracy:97.339%\n",
      "Epoch : 3 [32000/60000 (53%)]\tLoss: 1.464716\t Accuracy:97.271%\n",
      "Epoch : 3 [38400/60000 (64%)]\tLoss: 1.504006\t Accuracy:97.307%\n",
      "Epoch : 3 [44800/60000 (75%)]\tLoss: 1.492668\t Accuracy:97.303%\n",
      "Epoch : 3 [51200/60000 (85%)]\tLoss: 1.491764\t Accuracy:97.261%\n",
      "Epoch : 3 [57600/60000 (96%)]\tLoss: 1.493840\t Accuracy:97.265%\n",
      "Epoch : 4 [0/60000 (0%)]\tLoss: 1.461367\t Accuracy:100.000%\n",
      "Epoch : 4 [6400/60000 (11%)]\tLoss: 1.480488\t Accuracy:97.481%\n",
      "Epoch : 4 [12800/60000 (21%)]\tLoss: 1.469735\t Accuracy:97.428%\n",
      "Epoch : 4 [19200/60000 (32%)]\tLoss: 1.462999\t Accuracy:97.478%\n",
      "Epoch : 4 [25600/60000 (43%)]\tLoss: 1.462587\t Accuracy:97.550%\n",
      "Epoch : 4 [32000/60000 (53%)]\tLoss: 1.473495\t Accuracy:97.531%\n",
      "Epoch : 4 [38400/60000 (64%)]\tLoss: 1.491269\t Accuracy:97.598%\n",
      "Epoch : 4 [44800/60000 (75%)]\tLoss: 1.492295\t Accuracy:97.629%\n",
      "Epoch : 4 [51200/60000 (85%)]\tLoss: 1.491576\t Accuracy:97.570%\n",
      "Epoch : 4 [57600/60000 (96%)]\tLoss: 1.501077\t Accuracy:97.588%\n",
      "Epoch : 5 [0/60000 (0%)]\tLoss: 1.462642\t Accuracy:100.000%\n",
      "Epoch : 5 [6400/60000 (11%)]\tLoss: 1.471811\t Accuracy:97.932%\n",
      "Epoch : 5 [12800/60000 (21%)]\tLoss: 1.474609\t Accuracy:97.717%\n",
      "Epoch : 5 [19200/60000 (32%)]\tLoss: 1.462510\t Accuracy:97.733%\n",
      "Epoch : 5 [25600/60000 (43%)]\tLoss: 1.462042\t Accuracy:97.819%\n",
      "Epoch : 5 [32000/60000 (53%)]\tLoss: 1.477229\t Accuracy:97.765%\n",
      "Epoch : 5 [38400/60000 (64%)]\tLoss: 1.497860\t Accuracy:97.796%\n",
      "Epoch : 5 [44800/60000 (75%)]\tLoss: 1.468809\t Accuracy:97.772%\n",
      "Epoch : 5 [51200/60000 (85%)]\tLoss: 1.489985\t Accuracy:97.732%\n",
      "Epoch : 5 [57600/60000 (96%)]\tLoss: 1.493875\t Accuracy:97.750%\n",
      "Epoch : 6 [0/60000 (0%)]\tLoss: 1.461839\t Accuracy:100.000%\n",
      "Epoch : 6 [6400/60000 (11%)]\tLoss: 1.461259\t Accuracy:97.823%\n",
      "Epoch : 6 [12800/60000 (21%)]\tLoss: 1.473634\t Accuracy:97.904%\n",
      "Epoch : 6 [19200/60000 (32%)]\tLoss: 1.469123\t Accuracy:97.910%\n",
      "Epoch : 6 [25600/60000 (43%)]\tLoss: 1.471727\t Accuracy:98.018%\n",
      "Epoch : 6 [32000/60000 (53%)]\tLoss: 1.480893\t Accuracy:98.008%\n",
      "Epoch : 6 [38400/60000 (64%)]\tLoss: 1.498023\t Accuracy:98.022%\n",
      "Epoch : 6 [44800/60000 (75%)]\tLoss: 1.491902\t Accuracy:97.988%\n",
      "Epoch : 6 [51200/60000 (85%)]\tLoss: 1.472090\t Accuracy:97.950%\n",
      "Epoch : 6 [57600/60000 (96%)]\tLoss: 1.507856\t Accuracy:97.949%\n",
      "Epoch : 7 [0/60000 (0%)]\tLoss: 1.461780\t Accuracy:100.000%\n",
      "Epoch : 7 [6400/60000 (11%)]\tLoss: 1.482696\t Accuracy:98.057%\n",
      "Epoch : 7 [12800/60000 (21%)]\tLoss: 1.483532\t Accuracy:98.075%\n",
      "Epoch : 7 [19200/60000 (32%)]\tLoss: 1.463074\t Accuracy:98.097%\n",
      "Epoch : 7 [25600/60000 (43%)]\tLoss: 1.462865\t Accuracy:98.127%\n",
      "Epoch : 7 [32000/60000 (53%)]\tLoss: 1.479315\t Accuracy:98.043%\n",
      "Epoch : 7 [38400/60000 (64%)]\tLoss: 1.493930\t Accuracy:98.049%\n",
      "Epoch : 7 [44800/60000 (75%)]\tLoss: 1.461645\t Accuracy:98.013%\n",
      "Epoch : 7 [51200/60000 (85%)]\tLoss: 1.470505\t Accuracy:97.995%\n",
      "Epoch : 7 [57600/60000 (96%)]\tLoss: 1.493147\t Accuracy:98.006%\n",
      "Epoch : 8 [0/60000 (0%)]\tLoss: 1.461567\t Accuracy:100.000%\n",
      "Epoch : 8 [6400/60000 (11%)]\tLoss: 1.461838\t Accuracy:98.212%\n",
      "Epoch : 8 [12800/60000 (21%)]\tLoss: 1.490514\t Accuracy:98.153%\n",
      "Epoch : 8 [19200/60000 (32%)]\tLoss: 1.461593\t Accuracy:98.139%\n",
      "Epoch : 8 [25600/60000 (43%)]\tLoss: 1.462452\t Accuracy:98.096%\n",
      "Epoch : 8 [32000/60000 (53%)]\tLoss: 1.474078\t Accuracy:98.127%\n",
      "Epoch : 8 [38400/60000 (64%)]\tLoss: 1.503192\t Accuracy:98.150%\n",
      "Epoch : 8 [44800/60000 (75%)]\tLoss: 1.491963\t Accuracy:98.146%\n",
      "Epoch : 8 [51200/60000 (85%)]\tLoss: 1.477383\t Accuracy:98.132%\n",
      "Epoch : 8 [57600/60000 (96%)]\tLoss: 1.497917\t Accuracy:98.142%\n",
      "Epoch : 9 [0/60000 (0%)]\tLoss: 1.461502\t Accuracy:100.000%\n",
      "Epoch : 9 [6400/60000 (11%)]\tLoss: 1.461273\t Accuracy:98.259%\n",
      "Epoch : 9 [12800/60000 (21%)]\tLoss: 1.485906\t Accuracy:98.067%\n",
      "Epoch : 9 [19200/60000 (32%)]\tLoss: 1.462142\t Accuracy:98.128%\n",
      "Epoch : 9 [25600/60000 (43%)]\tLoss: 1.461624\t Accuracy:98.155%\n",
      "Epoch : 9 [32000/60000 (53%)]\tLoss: 1.463189\t Accuracy:98.202%\n",
      "Epoch : 9 [38400/60000 (64%)]\tLoss: 1.491544\t Accuracy:98.215%\n",
      "Epoch : 9 [44800/60000 (75%)]\tLoss: 1.489224\t Accuracy:98.195%\n",
      "Epoch : 9 [51200/60000 (85%)]\tLoss: 1.491597\t Accuracy:98.175%\n",
      "Epoch : 9 [57600/60000 (96%)]\tLoss: 1.486768\t Accuracy:98.182%\n",
      "Epoch : 10 [0/60000 (0%)]\tLoss: 1.461604\t Accuracy:100.000%\n",
      "Epoch : 10 [6400/60000 (11%)]\tLoss: 1.461318\t Accuracy:98.290%\n",
      "Epoch : 10 [12800/60000 (21%)]\tLoss: 1.511238\t Accuracy:98.099%\n",
      "Epoch : 10 [19200/60000 (32%)]\tLoss: 1.463277\t Accuracy:98.232%\n",
      "Epoch : 10 [25600/60000 (43%)]\tLoss: 1.466063\t Accuracy:98.264%\n",
      "Epoch : 10 [32000/60000 (53%)]\tLoss: 1.465956\t Accuracy:98.270%\n",
      "Epoch : 10 [38400/60000 (64%)]\tLoss: 1.491913\t Accuracy:98.296%\n",
      "Epoch : 10 [44800/60000 (75%)]\tLoss: 1.491235\t Accuracy:98.311%\n",
      "Epoch : 10 [51200/60000 (85%)]\tLoss: 1.469379\t Accuracy:98.278%\n",
      "Epoch : 10 [57600/60000 (96%)]\tLoss: 1.493600\t Accuracy:98.272%\n",
      "Epoch : 11 [0/60000 (0%)]\tLoss: 1.461367\t Accuracy:100.000%\n",
      "Epoch : 11 [6400/60000 (11%)]\tLoss: 1.461324\t Accuracy:98.336%\n",
      "Epoch : 11 [12800/60000 (21%)]\tLoss: 1.481947\t Accuracy:98.286%\n",
      "Epoch : 11 [19200/60000 (32%)]\tLoss: 1.466964\t Accuracy:98.404%\n",
      "Epoch : 11 [25600/60000 (43%)]\tLoss: 1.462044\t Accuracy:98.412%\n",
      "Epoch : 11 [32000/60000 (53%)]\tLoss: 1.464064\t Accuracy:98.402%\n",
      "Epoch : 11 [38400/60000 (64%)]\tLoss: 1.491114\t Accuracy:98.415%\n",
      "Epoch : 11 [44800/60000 (75%)]\tLoss: 1.462986\t Accuracy:98.381%\n",
      "Epoch : 11 [51200/60000 (85%)]\tLoss: 1.464709\t Accuracy:98.347%\n",
      "Epoch : 11 [57600/60000 (96%)]\tLoss: 1.502923\t Accuracy:98.355%\n",
      "Epoch : 12 [0/60000 (0%)]\tLoss: 1.461460\t Accuracy:100.000%\n",
      "Epoch : 12 [6400/60000 (11%)]\tLoss: 1.461866\t Accuracy:98.507%\n",
      "Epoch : 12 [12800/60000 (21%)]\tLoss: 1.479704\t Accuracy:98.371%\n",
      "Epoch : 12 [19200/60000 (32%)]\tLoss: 1.466460\t Accuracy:98.419%\n",
      "Epoch : 12 [25600/60000 (43%)]\tLoss: 1.464212\t Accuracy:98.408%\n",
      "Epoch : 12 [32000/60000 (53%)]\tLoss: 1.466750\t Accuracy:98.395%\n",
      "Epoch : 12 [38400/60000 (64%)]\tLoss: 1.492999\t Accuracy:98.395%\n",
      "Epoch : 12 [44800/60000 (75%)]\tLoss: 1.477779\t Accuracy:98.354%\n",
      "Epoch : 12 [51200/60000 (85%)]\tLoss: 1.475140\t Accuracy:98.339%\n",
      "Epoch : 12 [57600/60000 (96%)]\tLoss: 1.483099\t Accuracy:98.336%\n",
      "Epoch : 13 [0/60000 (0%)]\tLoss: 1.461305\t Accuracy:100.000%\n"
     ]
    },
    {
     "name": "stdout",
     "output_type": "stream",
     "text": [
      "Epoch : 13 [6400/60000 (11%)]\tLoss: 1.464136\t Accuracy:98.430%\n",
      "Epoch : 13 [12800/60000 (21%)]\tLoss: 1.511002\t Accuracy:98.395%\n",
      "Epoch : 13 [19200/60000 (32%)]\tLoss: 1.470437\t Accuracy:98.445%\n",
      "Epoch : 13 [25600/60000 (43%)]\tLoss: 1.462671\t Accuracy:98.475%\n",
      "Epoch : 13 [32000/60000 (53%)]\tLoss: 1.468726\t Accuracy:98.486%\n",
      "Epoch : 13 [38400/60000 (64%)]\tLoss: 1.491723\t Accuracy:98.506%\n",
      "Epoch : 13 [44800/60000 (75%)]\tLoss: 1.462890\t Accuracy:98.463%\n",
      "Epoch : 13 [51200/60000 (85%)]\tLoss: 1.464757\t Accuracy:98.423%\n",
      "Epoch : 13 [57600/60000 (96%)]\tLoss: 1.491638\t Accuracy:98.430%\n",
      "Epoch : 14 [0/60000 (0%)]\tLoss: 1.462110\t Accuracy:100.000%\n",
      "Epoch : 14 [6400/60000 (11%)]\tLoss: 1.462536\t Accuracy:98.710%\n",
      "Epoch : 14 [12800/60000 (21%)]\tLoss: 1.480235\t Accuracy:98.582%\n",
      "Epoch : 14 [19200/60000 (32%)]\tLoss: 1.482239\t Accuracy:98.570%\n",
      "Epoch : 14 [25600/60000 (43%)]\tLoss: 1.462046\t Accuracy:98.568%\n",
      "Epoch : 14 [32000/60000 (53%)]\tLoss: 1.481865\t Accuracy:98.523%\n",
      "Epoch : 14 [38400/60000 (64%)]\tLoss: 1.491904\t Accuracy:98.496%\n",
      "Epoch : 14 [44800/60000 (75%)]\tLoss: 1.487898\t Accuracy:98.477%\n",
      "Epoch : 14 [51200/60000 (85%)]\tLoss: 1.480928\t Accuracy:98.448%\n",
      "Epoch : 14 [57600/60000 (96%)]\tLoss: 1.485273\t Accuracy:98.442%\n",
      "Epoch : 15 [0/60000 (0%)]\tLoss: 1.461461\t Accuracy:100.000%\n",
      "Epoch : 15 [6400/60000 (11%)]\tLoss: 1.464391\t Accuracy:98.585%\n",
      "Epoch : 15 [12800/60000 (21%)]\tLoss: 1.469856\t Accuracy:98.480%\n",
      "Epoch : 15 [19200/60000 (32%)]\tLoss: 1.465207\t Accuracy:98.513%\n",
      "Epoch : 15 [25600/60000 (43%)]\tLoss: 1.461973\t Accuracy:98.545%\n",
      "Epoch : 15 [32000/60000 (53%)]\tLoss: 1.479005\t Accuracy:98.542%\n",
      "Epoch : 15 [38400/60000 (64%)]\tLoss: 1.492070\t Accuracy:98.545%\n",
      "Epoch : 15 [44800/60000 (75%)]\tLoss: 1.470856\t Accuracy:98.512%\n",
      "Epoch : 15 [51200/60000 (85%)]\tLoss: 1.477794\t Accuracy:98.481%\n",
      "Epoch : 15 [57600/60000 (96%)]\tLoss: 1.496347\t Accuracy:98.482%\n",
      "Epoch : 16 [0/60000 (0%)]\tLoss: 1.462382\t Accuracy:100.000%\n",
      "Epoch : 16 [6400/60000 (11%)]\tLoss: 1.462630\t Accuracy:98.632%\n",
      "Epoch : 16 [12800/60000 (21%)]\tLoss: 1.506769\t Accuracy:98.535%\n",
      "Epoch : 16 [19200/60000 (32%)]\tLoss: 1.464620\t Accuracy:98.549%\n",
      "Epoch : 16 [25600/60000 (43%)]\tLoss: 1.462315\t Accuracy:98.588%\n",
      "Epoch : 16 [32000/60000 (53%)]\tLoss: 1.464024\t Accuracy:98.561%\n",
      "Epoch : 16 [38400/60000 (64%)]\tLoss: 1.491419\t Accuracy:98.572%\n",
      "Epoch : 16 [44800/60000 (75%)]\tLoss: 1.487949\t Accuracy:98.532%\n",
      "Epoch : 16 [51200/60000 (85%)]\tLoss: 1.466601\t Accuracy:98.487%\n",
      "Epoch : 16 [57600/60000 (96%)]\tLoss: 1.488144\t Accuracy:98.504%\n",
      "Epoch : 17 [0/60000 (0%)]\tLoss: 1.461786\t Accuracy:100.000%\n",
      "Epoch : 17 [6400/60000 (11%)]\tLoss: 1.463366\t Accuracy:98.523%\n",
      "Epoch : 17 [12800/60000 (21%)]\tLoss: 1.468478\t Accuracy:98.449%\n",
      "Epoch : 17 [19200/60000 (32%)]\tLoss: 1.476199\t Accuracy:98.482%\n",
      "Epoch : 17 [25600/60000 (43%)]\tLoss: 1.465446\t Accuracy:98.525%\n",
      "Epoch : 17 [32000/60000 (53%)]\tLoss: 1.464046\t Accuracy:98.545%\n",
      "Epoch : 17 [38400/60000 (64%)]\tLoss: 1.491936\t Accuracy:98.564%\n",
      "Epoch : 17 [44800/60000 (75%)]\tLoss: 1.491288\t Accuracy:98.557%\n",
      "Epoch : 17 [51200/60000 (85%)]\tLoss: 1.467967\t Accuracy:98.542%\n",
      "Epoch : 17 [57600/60000 (96%)]\tLoss: 1.481955\t Accuracy:98.548%\n",
      "Epoch : 18 [0/60000 (0%)]\tLoss: 1.462243\t Accuracy:100.000%\n",
      "Epoch : 18 [6400/60000 (11%)]\tLoss: 1.461543\t Accuracy:98.741%\n",
      "Epoch : 18 [12800/60000 (21%)]\tLoss: 1.493345\t Accuracy:98.660%\n",
      "Epoch : 18 [19200/60000 (32%)]\tLoss: 1.473264\t Accuracy:98.705%\n",
      "Epoch : 18 [25600/60000 (43%)]\tLoss: 1.462834\t Accuracy:98.720%\n",
      "Epoch : 18 [32000/60000 (53%)]\tLoss: 1.474992\t Accuracy:98.676%\n",
      "Epoch : 18 [38400/60000 (64%)]\tLoss: 1.491686\t Accuracy:98.681%\n",
      "Epoch : 18 [44800/60000 (75%)]\tLoss: 1.492707\t Accuracy:98.635%\n",
      "Epoch : 18 [51200/60000 (85%)]\tLoss: 1.466000\t Accuracy:98.606%\n",
      "Epoch : 18 [57600/60000 (96%)]\tLoss: 1.482934\t Accuracy:98.610%\n",
      "Epoch : 19 [0/60000 (0%)]\tLoss: 1.461352\t Accuracy:100.000%\n",
      "Epoch : 19 [6400/60000 (11%)]\tLoss: 1.462022\t Accuracy:98.694%\n",
      "Epoch : 19 [12800/60000 (21%)]\tLoss: 1.508133\t Accuracy:98.660%\n",
      "Epoch : 19 [19200/60000 (32%)]\tLoss: 1.461898\t Accuracy:98.653%\n",
      "Epoch : 19 [25600/60000 (43%)]\tLoss: 1.461729\t Accuracy:98.685%\n",
      "Epoch : 19 [32000/60000 (53%)]\tLoss: 1.463862\t Accuracy:98.667%\n",
      "Epoch : 19 [38400/60000 (64%)]\tLoss: 1.492041\t Accuracy:98.676%\n",
      "Epoch : 19 [44800/60000 (75%)]\tLoss: 1.488333\t Accuracy:98.664%\n",
      "Epoch : 19 [51200/60000 (85%)]\tLoss: 1.472788\t Accuracy:98.641%\n",
      "Epoch : 19 [57600/60000 (96%)]\tLoss: 1.488813\t Accuracy:98.643%\n"
     ]
    }
   ],
   "source": [
    "net = net.cuda()\n",
    "train (net, train_loader, EPOCHS = 20)"
   ]
  },
  {
   "cell_type": "code",
   "execution_count": 46,
   "metadata": {
    "colab": {
     "base_uri": "https://localhost:8080/",
     "height": 35
    },
    "colab_type": "code",
    "id": "mU2zLhyg92bu",
    "outputId": "11d811b0-0311-489c-96b7-5778a4000db8"
   },
   "outputs": [
    {
     "name": "stdout",
     "output_type": "stream",
     "text": [
      "Test accuracy:98.450% \n"
     ]
    }
   ],
   "source": [
    "test(net, test_loader)"
   ]
  },
  {
   "cell_type": "code",
   "execution_count": 47,
   "metadata": {},
   "outputs": [],
   "source": [
    "# Second attempt, has only 2 conv layers and performs nearly as well\n",
    "\n",
    "class Model2(torch.nn.Module):\n",
    "    def __init__(self):\n",
    "        super(Model2, self).__init__()\n",
    "        self.conv_1 = torch.nn.Conv2d(1, 32, 3, stride=1, padding=1)\n",
    "        self.conv_2 = torch.nn.Conv2d(32, 64, 3, stride=1, padding=1)\n",
    "        self.max_pool2d = torch.nn.MaxPool2d(kernel_size=2, stride=2)\n",
    "        self.linear_1 = torch.nn.Linear(7 * 7 * 64, 128)\n",
    "        self.linear_2 = torch.nn.Linear(128, 10)\n",
    "        self.relu = torch.nn.ReLU()\n",
    "\n",
    "    def forward(self, x):\n",
    "        x = self.conv_1(x)\n",
    "        x = self.relu(x)\n",
    "        x = self.max_pool2d(x)\n",
    "        \n",
    "        x = self.conv_2(x)\n",
    "        x = self.relu(x)\n",
    "        x = self.max_pool2d(x)\n",
    "        \n",
    "        x = x.reshape(x.size(0), -1)\n",
    "        \n",
    "        x = self.linear_1(x)\n",
    "        x = self.relu(x)\n",
    "        \n",
    "        x = self.linear_2(x)\n",
    "        \n",
    "        pred = F.softmax(x, dim=1)\n",
    "\n",
    "        return pred"
   ]
  },
  {
   "cell_type": "code",
   "execution_count": 48,
   "metadata": {},
   "outputs": [
    {
     "name": "stdout",
     "output_type": "stream",
     "text": [
      "Model2(\n",
      "  (conv_1): Conv2d(1, 32, kernel_size=(3, 3), stride=(1, 1), padding=(1, 1))\n",
      "  (conv_2): Conv2d(32, 64, kernel_size=(3, 3), stride=(1, 1), padding=(1, 1))\n",
      "  (max_pool2d): MaxPool2d(kernel_size=2, stride=2, padding=0, dilation=1, ceil_mode=False)\n",
      "  (linear_1): Linear(in_features=3136, out_features=128, bias=True)\n",
      "  (linear_2): Linear(in_features=128, out_features=10, bias=True)\n",
      "  (relu): ReLU()\n",
      ")\n",
      "Size of the output tensor: torch.Size([32, 10])\n",
      "tensor([[0.0948, 0.0990, 0.1041, 0.1011, 0.1020, 0.0913, 0.1068, 0.1054, 0.1033,\n",
      "         0.0922],\n",
      "        [0.0954, 0.0987, 0.1031, 0.1012, 0.1021, 0.0897, 0.1059, 0.1066, 0.1021,\n",
      "         0.0951],\n",
      "        [0.0941, 0.0979, 0.1036, 0.1024, 0.1018, 0.0936, 0.1075, 0.1043, 0.1009,\n",
      "         0.0937],\n",
      "        [0.0945, 0.0999, 0.1036, 0.1003, 0.1033, 0.0910, 0.1063, 0.1054, 0.1015,\n",
      "         0.0941],\n",
      "        [0.0946, 0.0976, 0.1035, 0.1023, 0.1023, 0.0919, 0.1073, 0.1026, 0.1024,\n",
      "         0.0955],\n",
      "        [0.0947, 0.1000, 0.1049, 0.1014, 0.1009, 0.0921, 0.1076, 0.1050, 0.1008,\n",
      "         0.0926],\n",
      "        [0.0934, 0.0990, 0.1042, 0.1015, 0.1022, 0.0927, 0.1075, 0.1039, 0.1022,\n",
      "         0.0934],\n",
      "        [0.0958, 0.0989, 0.1047, 0.1003, 0.1022, 0.0910, 0.1071, 0.1047, 0.1019,\n",
      "         0.0933],\n",
      "        [0.0940, 0.0974, 0.1040, 0.1020, 0.1022, 0.0929, 0.1069, 0.1037, 0.1023,\n",
      "         0.0945],\n",
      "        [0.0935, 0.0985, 0.1037, 0.1027, 0.1015, 0.0924, 0.1079, 0.1051, 0.1012,\n",
      "         0.0935],\n",
      "        [0.0946, 0.0994, 0.1032, 0.1007, 0.1031, 0.0911, 0.1067, 0.1047, 0.1027,\n",
      "         0.0939],\n",
      "        [0.0937, 0.0984, 0.1031, 0.1016, 0.1025, 0.0921, 0.1069, 0.1049, 0.1021,\n",
      "         0.0947],\n",
      "        [0.0947, 0.0977, 0.1039, 0.1011, 0.1024, 0.0920, 0.1073, 0.1050, 0.1004,\n",
      "         0.0955],\n",
      "        [0.0940, 0.0986, 0.1045, 0.1022, 0.1015, 0.0925, 0.1074, 0.1043, 0.1028,\n",
      "         0.0922],\n",
      "        [0.0935, 0.0976, 0.1043, 0.1019, 0.1027, 0.0920, 0.1065, 0.1046, 0.1028,\n",
      "         0.0941],\n",
      "        [0.0958, 0.0987, 0.1038, 0.1012, 0.1024, 0.0910, 0.1069, 0.1038, 0.1015,\n",
      "         0.0948],\n",
      "        [0.0952, 0.0986, 0.1038, 0.1016, 0.1018, 0.0917, 0.1083, 0.1047, 0.1018,\n",
      "         0.0926],\n",
      "        [0.0943, 0.0993, 0.1038, 0.1011, 0.1026, 0.0919, 0.1068, 0.1048, 0.1018,\n",
      "         0.0936],\n",
      "        [0.0934, 0.0983, 0.1032, 0.1025, 0.1029, 0.0911, 0.1072, 0.1049, 0.1032,\n",
      "         0.0932],\n",
      "        [0.0950, 0.0993, 0.1044, 0.1006, 0.1027, 0.0921, 0.1068, 0.1041, 0.1013,\n",
      "         0.0936],\n",
      "        [0.0943, 0.0983, 0.1036, 0.1012, 0.1024, 0.0928, 0.1086, 0.1048, 0.0996,\n",
      "         0.0944],\n",
      "        [0.0944, 0.0990, 0.1034, 0.1022, 0.1019, 0.0908, 0.1055, 0.1070, 0.1014,\n",
      "         0.0943],\n",
      "        [0.0940, 0.0996, 0.1041, 0.1015, 0.1029, 0.0913, 0.1071, 0.1047, 0.1012,\n",
      "         0.0935],\n",
      "        [0.0947, 0.0999, 0.1037, 0.1002, 0.1032, 0.0912, 0.1064, 0.1054, 0.1016,\n",
      "         0.0938],\n",
      "        [0.0947, 0.0993, 0.1033, 0.1010, 0.1032, 0.0922, 0.1069, 0.1044, 0.1023,\n",
      "         0.0926],\n",
      "        [0.0943, 0.0997, 0.1028, 0.1008, 0.1018, 0.0912, 0.1065, 0.1065, 0.1015,\n",
      "         0.0949],\n",
      "        [0.0954, 0.0972, 0.1035, 0.1027, 0.1017, 0.0918, 0.1073, 0.1039, 0.1015,\n",
      "         0.0951],\n",
      "        [0.0959, 0.0994, 0.1038, 0.0998, 0.1024, 0.0913, 0.1072, 0.1039, 0.1023,\n",
      "         0.0938],\n",
      "        [0.0939, 0.0980, 0.1040, 0.1017, 0.1029, 0.0913, 0.1075, 0.1041, 0.1011,\n",
      "         0.0956],\n",
      "        [0.0945, 0.0994, 0.1035, 0.1005, 0.1029, 0.0917, 0.1066, 0.1044, 0.1022,\n",
      "         0.0945],\n",
      "        [0.0943, 0.0982, 0.1040, 0.1010, 0.1020, 0.0945, 0.1077, 0.1027, 0.1013,\n",
      "         0.0941],\n",
      "        [0.0947, 0.1009, 0.1036, 0.0995, 0.1031, 0.0906, 0.1059, 0.1058, 0.1029,\n",
      "         0.0932]], device='cuda:0', grad_fn=<SoftmaxBackward>)\n"
     ]
    }
   ],
   "source": [
    "net2 = Model2()\n",
    "net2.cuda()\n",
    "net2.to(device)\n",
    "print(net2)\n",
    "tld = iter(train_loader)\n",
    "im = next(tld)[0].to(device)\n",
    "print ('Size of the output tensor:' ,net2.forward(im).size())\n",
    "print (net2.forward(im))"
   ]
  },
  {
   "cell_type": "code",
   "execution_count": 49,
   "metadata": {},
   "outputs": [
    {
     "name": "stdout",
     "output_type": "stream",
     "text": [
      "Epoch : 0 [0/60000 (0%)]\tLoss: 2.302526\t Accuracy:6.250%\n",
      "Epoch : 0 [6400/60000 (11%)]\tLoss: 1.759333\t Accuracy:58.364%\n",
      "Epoch : 0 [12800/60000 (21%)]\tLoss: 1.708332\t Accuracy:68.508%\n",
      "Epoch : 0 [19200/60000 (32%)]\tLoss: 1.577332\t Accuracy:73.575%\n",
      "Epoch : 0 [25600/60000 (43%)]\tLoss: 1.528115\t Accuracy:78.316%\n",
      "Epoch : 0 [32000/60000 (53%)]\tLoss: 1.557172\t Accuracy:81.506%\n",
      "Epoch : 0 [38400/60000 (64%)]\tLoss: 1.516967\t Accuracy:83.857%\n",
      "Epoch : 0 [44800/60000 (75%)]\tLoss: 1.502026\t Accuracy:85.486%\n",
      "Epoch : 0 [51200/60000 (85%)]\tLoss: 1.507068\t Accuracy:86.725%\n",
      "Epoch : 0 [57600/60000 (96%)]\tLoss: 1.517219\t Accuracy:87.804%\n",
      "Epoch : 1 [0/60000 (0%)]\tLoss: 1.482047\t Accuracy:100.000%\n",
      "Epoch : 1 [6400/60000 (11%)]\tLoss: 1.489434\t Accuracy:96.688%\n",
      "Epoch : 1 [12800/60000 (21%)]\tLoss: 1.494763\t Accuracy:96.314%\n",
      "Epoch : 1 [19200/60000 (32%)]\tLoss: 1.477207\t Accuracy:96.397%\n",
      "Epoch : 1 [25600/60000 (43%)]\tLoss: 1.467128\t Accuracy:96.575%\n",
      "Epoch : 1 [32000/60000 (53%)]\tLoss: 1.519083\t Accuracy:96.644%\n",
      "Epoch : 1 [38400/60000 (64%)]\tLoss: 1.498561\t Accuracy:96.682%\n",
      "Epoch : 1 [44800/60000 (75%)]\tLoss: 1.484825\t Accuracy:96.712%\n",
      "Epoch : 1 [51200/60000 (85%)]\tLoss: 1.493853\t Accuracy:96.715%\n",
      "Epoch : 1 [57600/60000 (96%)]\tLoss: 1.500782\t Accuracy:96.780%\n",
      "Epoch : 2 [0/60000 (0%)]\tLoss: 1.475874\t Accuracy:100.000%\n",
      "Epoch : 2 [6400/60000 (11%)]\tLoss: 1.501539\t Accuracy:97.186%\n",
      "Epoch : 2 [12800/60000 (21%)]\tLoss: 1.490686\t Accuracy:97.007%\n",
      "Epoch : 2 [19200/60000 (32%)]\tLoss: 1.465675\t Accuracy:97.109%\n",
      "Epoch : 2 [25600/60000 (43%)]\tLoss: 1.472259\t Accuracy:97.292%\n",
      "Epoch : 2 [32000/60000 (53%)]\tLoss: 1.508425\t Accuracy:97.328%\n",
      "Epoch : 2 [38400/60000 (64%)]\tLoss: 1.494754\t Accuracy:97.317%\n",
      "Epoch : 2 [44800/60000 (75%)]\tLoss: 1.476403\t Accuracy:97.319%\n",
      "Epoch : 2 [51200/60000 (85%)]\tLoss: 1.494758\t Accuracy:97.299%\n",
      "Epoch : 2 [57600/60000 (96%)]\tLoss: 1.489706\t Accuracy:97.324%\n",
      "Epoch : 3 [0/60000 (0%)]\tLoss: 1.478279\t Accuracy:100.000%\n",
      "Epoch : 3 [6400/60000 (11%)]\tLoss: 1.493709\t Accuracy:97.652%\n",
      "Epoch : 3 [12800/60000 (21%)]\tLoss: 1.480279\t Accuracy:97.366%\n",
      "Epoch : 3 [19200/60000 (32%)]\tLoss: 1.471191\t Accuracy:97.468%\n",
      "Epoch : 3 [25600/60000 (43%)]\tLoss: 1.477044\t Accuracy:97.616%\n",
      "Epoch : 3 [32000/60000 (53%)]\tLoss: 1.501599\t Accuracy:97.618%\n",
      "Epoch : 3 [38400/60000 (64%)]\tLoss: 1.494909\t Accuracy:97.588%\n",
      "Epoch : 3 [44800/60000 (75%)]\tLoss: 1.472243\t Accuracy:97.564%\n",
      "Epoch : 3 [51200/60000 (85%)]\tLoss: 1.494546\t Accuracy:97.545%\n",
      "Epoch : 3 [57600/60000 (96%)]\tLoss: 1.489798\t Accuracy:97.573%\n",
      "Epoch : 4 [0/60000 (0%)]\tLoss: 1.466399\t Accuracy:100.000%\n",
      "Epoch : 4 [6400/60000 (11%)]\tLoss: 1.500035\t Accuracy:97.823%\n",
      "Epoch : 4 [12800/60000 (21%)]\tLoss: 1.476135\t Accuracy:97.530%\n",
      "Epoch : 4 [19200/60000 (32%)]\tLoss: 1.462977\t Accuracy:97.603%\n",
      "Epoch : 4 [25600/60000 (43%)]\tLoss: 1.473791\t Accuracy:97.792%\n",
      "Epoch : 4 [32000/60000 (53%)]\tLoss: 1.504733\t Accuracy:97.830%\n",
      "Epoch : 4 [38400/60000 (64%)]\tLoss: 1.494346\t Accuracy:97.814%\n",
      "Epoch : 4 [44800/60000 (75%)]\tLoss: 1.469892\t Accuracy:97.783%\n",
      "Epoch : 4 [51200/60000 (85%)]\tLoss: 1.496439\t Accuracy:97.742%\n",
      "Epoch : 4 [57600/60000 (96%)]\tLoss: 1.487720\t Accuracy:97.748%\n",
      "Epoch : 5 [0/60000 (0%)]\tLoss: 1.463939\t Accuracy:100.000%\n",
      "Epoch : 5 [6400/60000 (11%)]\tLoss: 1.496845\t Accuracy:97.823%\n",
      "Epoch : 5 [12800/60000 (21%)]\tLoss: 1.475410\t Accuracy:97.732%\n",
      "Epoch : 5 [19200/60000 (32%)]\tLoss: 1.462891\t Accuracy:97.780%\n",
      "Epoch : 5 [25600/60000 (43%)]\tLoss: 1.479927\t Accuracy:97.917%\n",
      "Epoch : 5 [32000/60000 (53%)]\tLoss: 1.499022\t Accuracy:97.940%\n",
      "Epoch : 5 [38400/60000 (64%)]\tLoss: 1.492811\t Accuracy:97.924%\n",
      "Epoch : 5 [44800/60000 (75%)]\tLoss: 1.470764\t Accuracy:97.919%\n",
      "Epoch : 5 [51200/60000 (85%)]\tLoss: 1.499095\t Accuracy:97.861%\n",
      "Epoch : 5 [57600/60000 (96%)]\tLoss: 1.491111\t Accuracy:97.861%\n",
      "Epoch : 6 [0/60000 (0%)]\tLoss: 1.464124\t Accuracy:100.000%\n",
      "Epoch : 6 [6400/60000 (11%)]\tLoss: 1.497277\t Accuracy:97.963%\n",
      "Epoch : 6 [12800/60000 (21%)]\tLoss: 1.480710\t Accuracy:97.904%\n",
      "Epoch : 6 [19200/60000 (32%)]\tLoss: 1.462287\t Accuracy:97.967%\n",
      "Epoch : 6 [25600/60000 (43%)]\tLoss: 1.473812\t Accuracy:98.077%\n",
      "Epoch : 6 [32000/60000 (53%)]\tLoss: 1.498014\t Accuracy:98.068%\n",
      "Epoch : 6 [38400/60000 (64%)]\tLoss: 1.492503\t Accuracy:98.059%\n",
      "Epoch : 6 [44800/60000 (75%)]\tLoss: 1.467105\t Accuracy:98.044%\n",
      "Epoch : 6 [51200/60000 (85%)]\tLoss: 1.500349\t Accuracy:98.021%\n",
      "Epoch : 6 [57600/60000 (96%)]\tLoss: 1.498051\t Accuracy:98.003%\n",
      "Epoch : 7 [0/60000 (0%)]\tLoss: 1.463488\t Accuracy:100.000%\n",
      "Epoch : 7 [6400/60000 (11%)]\tLoss: 1.500150\t Accuracy:98.088%\n",
      "Epoch : 7 [12800/60000 (21%)]\tLoss: 1.478152\t Accuracy:97.958%\n",
      "Epoch : 7 [19200/60000 (32%)]\tLoss: 1.462365\t Accuracy:98.045%\n",
      "Epoch : 7 [25600/60000 (43%)]\tLoss: 1.469202\t Accuracy:98.174%\n",
      "Epoch : 7 [32000/60000 (53%)]\tLoss: 1.500886\t Accuracy:98.142%\n",
      "Epoch : 7 [38400/60000 (64%)]\tLoss: 1.493089\t Accuracy:98.150%\n",
      "Epoch : 7 [44800/60000 (75%)]\tLoss: 1.470127\t Accuracy:98.135%\n",
      "Epoch : 7 [51200/60000 (85%)]\tLoss: 1.502363\t Accuracy:98.091%\n",
      "Epoch : 7 [57600/60000 (96%)]\tLoss: 1.497562\t Accuracy:98.084%\n",
      "Epoch : 8 [0/60000 (0%)]\tLoss: 1.463899\t Accuracy:100.000%\n",
      "Epoch : 8 [6400/60000 (11%)]\tLoss: 1.502114\t Accuracy:98.212%\n",
      "Epoch : 8 [12800/60000 (21%)]\tLoss: 1.494655\t Accuracy:98.099%\n",
      "Epoch : 8 [19200/60000 (32%)]\tLoss: 1.462009\t Accuracy:98.133%\n",
      "Epoch : 8 [25600/60000 (43%)]\tLoss: 1.469179\t Accuracy:98.240%\n",
      "Epoch : 8 [32000/60000 (53%)]\tLoss: 1.490864\t Accuracy:98.208%\n",
      "Epoch : 8 [38400/60000 (64%)]\tLoss: 1.491764\t Accuracy:98.207%\n",
      "Epoch : 8 [44800/60000 (75%)]\tLoss: 1.468182\t Accuracy:98.209%\n",
      "Epoch : 8 [51200/60000 (85%)]\tLoss: 1.499537\t Accuracy:98.179%\n",
      "Epoch : 8 [57600/60000 (96%)]\tLoss: 1.491985\t Accuracy:98.169%\n",
      "Epoch : 9 [0/60000 (0%)]\tLoss: 1.463696\t Accuracy:100.000%\n",
      "Epoch : 9 [6400/60000 (11%)]\tLoss: 1.498443\t Accuracy:98.103%\n",
      "Epoch : 9 [12800/60000 (21%)]\tLoss: 1.474165\t Accuracy:98.060%\n",
      "Epoch : 9 [19200/60000 (32%)]\tLoss: 1.462251\t Accuracy:98.144%\n",
      "Epoch : 9 [25600/60000 (43%)]\tLoss: 1.469535\t Accuracy:98.291%\n",
      "Epoch : 9 [32000/60000 (53%)]\tLoss: 1.485511\t Accuracy:98.255%\n",
      "Epoch : 9 [38400/60000 (64%)]\tLoss: 1.491551\t Accuracy:98.241%\n",
      "Epoch : 9 [44800/60000 (75%)]\tLoss: 1.473250\t Accuracy:98.251%\n",
      "Epoch : 9 [51200/60000 (85%)]\tLoss: 1.501871\t Accuracy:98.232%\n",
      "Epoch : 9 [57600/60000 (96%)]\tLoss: 1.485778\t Accuracy:98.223%\n",
      "Epoch : 10 [0/60000 (0%)]\tLoss: 1.463132\t Accuracy:100.000%\n",
      "Epoch : 10 [6400/60000 (11%)]\tLoss: 1.501911\t Accuracy:98.290%\n",
      "Epoch : 10 [12800/60000 (21%)]\tLoss: 1.472107\t Accuracy:98.200%\n",
      "Epoch : 10 [19200/60000 (32%)]\tLoss: 1.461861\t Accuracy:98.274%\n",
      "Epoch : 10 [25600/60000 (43%)]\tLoss: 1.474799\t Accuracy:98.385%\n",
      "Epoch : 10 [32000/60000 (53%)]\tLoss: 1.492168\t Accuracy:98.352%\n",
      "Epoch : 10 [38400/60000 (64%)]\tLoss: 1.491757\t Accuracy:98.345%\n",
      "Epoch : 10 [44800/60000 (75%)]\tLoss: 1.478183\t Accuracy:98.332%\n",
      "Epoch : 10 [51200/60000 (85%)]\tLoss: 1.500318\t Accuracy:98.308%\n",
      "Epoch : 10 [57600/60000 (96%)]\tLoss: 1.481618\t Accuracy:98.300%\n",
      "Epoch : 11 [0/60000 (0%)]\tLoss: 1.463184\t Accuracy:100.000%\n",
      "Epoch : 11 [6400/60000 (11%)]\tLoss: 1.502849\t Accuracy:98.336%\n",
      "Epoch : 11 [12800/60000 (21%)]\tLoss: 1.469550\t Accuracy:98.309%\n",
      "Epoch : 11 [19200/60000 (32%)]\tLoss: 1.462209\t Accuracy:98.336%\n",
      "Epoch : 11 [25600/60000 (43%)]\tLoss: 1.465470\t Accuracy:98.455%\n",
      "Epoch : 11 [32000/60000 (53%)]\tLoss: 1.490366\t Accuracy:98.408%\n",
      "Epoch : 11 [38400/60000 (64%)]\tLoss: 1.491427\t Accuracy:98.400%\n",
      "Epoch : 11 [44800/60000 (75%)]\tLoss: 1.472502\t Accuracy:98.396%\n",
      "Epoch : 11 [51200/60000 (85%)]\tLoss: 1.496290\t Accuracy:98.355%\n",
      "Epoch : 11 [57600/60000 (96%)]\tLoss: 1.475214\t Accuracy:98.355%\n",
      "Epoch : 12 [0/60000 (0%)]\tLoss: 1.462715\t Accuracy:100.000%\n",
      "Epoch : 12 [6400/60000 (11%)]\tLoss: 1.493183\t Accuracy:98.414%\n",
      "Epoch : 12 [12800/60000 (21%)]\tLoss: 1.483705\t Accuracy:98.325%\n",
      "Epoch : 12 [19200/60000 (32%)]\tLoss: 1.462566\t Accuracy:98.367%\n",
      "Epoch : 12 [25600/60000 (43%)]\tLoss: 1.463272\t Accuracy:98.482%\n",
      "Epoch : 12 [32000/60000 (53%)]\tLoss: 1.490947\t Accuracy:98.464%\n",
      "Epoch : 12 [38400/60000 (64%)]\tLoss: 1.491705\t Accuracy:98.465%\n",
      "Epoch : 12 [44800/60000 (75%)]\tLoss: 1.472511\t Accuracy:98.454%\n",
      "Epoch : 12 [51200/60000 (85%)]\tLoss: 1.498572\t Accuracy:98.417%\n",
      "Epoch : 12 [57600/60000 (96%)]\tLoss: 1.475585\t Accuracy:98.404%\n",
      "Epoch : 13 [0/60000 (0%)]\tLoss: 1.462220\t Accuracy:100.000%\n"
     ]
    },
    {
     "name": "stdout",
     "output_type": "stream",
     "text": [
      "Epoch : 13 [6400/60000 (11%)]\tLoss: 1.495727\t Accuracy:98.414%\n",
      "Epoch : 13 [12800/60000 (21%)]\tLoss: 1.486590\t Accuracy:98.356%\n",
      "Epoch : 13 [19200/60000 (32%)]\tLoss: 1.461974\t Accuracy:98.404%\n",
      "Epoch : 13 [25600/60000 (43%)]\tLoss: 1.468073\t Accuracy:98.502%\n",
      "Epoch : 13 [32000/60000 (53%)]\tLoss: 1.487378\t Accuracy:98.473%\n",
      "Epoch : 13 [38400/60000 (64%)]\tLoss: 1.491706\t Accuracy:98.470%\n",
      "Epoch : 13 [44800/60000 (75%)]\tLoss: 1.475501\t Accuracy:98.456%\n",
      "Epoch : 13 [51200/60000 (85%)]\tLoss: 1.497622\t Accuracy:98.421%\n",
      "Epoch : 13 [57600/60000 (96%)]\tLoss: 1.469761\t Accuracy:98.423%\n",
      "Epoch : 14 [0/60000 (0%)]\tLoss: 1.463435\t Accuracy:100.000%\n",
      "Epoch : 14 [6400/60000 (11%)]\tLoss: 1.494664\t Accuracy:98.476%\n",
      "Epoch : 14 [12800/60000 (21%)]\tLoss: 1.486346\t Accuracy:98.434%\n",
      "Epoch : 14 [19200/60000 (32%)]\tLoss: 1.462644\t Accuracy:98.461%\n",
      "Epoch : 14 [25600/60000 (43%)]\tLoss: 1.471205\t Accuracy:98.564%\n",
      "Epoch : 14 [32000/60000 (53%)]\tLoss: 1.485028\t Accuracy:98.561%\n",
      "Epoch : 14 [38400/60000 (64%)]\tLoss: 1.492051\t Accuracy:98.548%\n",
      "Epoch : 14 [44800/60000 (75%)]\tLoss: 1.476413\t Accuracy:98.526%\n",
      "Epoch : 14 [51200/60000 (85%)]\tLoss: 1.500906\t Accuracy:98.470%\n",
      "Epoch : 14 [57600/60000 (96%)]\tLoss: 1.469709\t Accuracy:98.456%\n",
      "Epoch : 15 [0/60000 (0%)]\tLoss: 1.463770\t Accuracy:100.000%\n",
      "Epoch : 15 [6400/60000 (11%)]\tLoss: 1.497049\t Accuracy:98.507%\n",
      "Epoch : 15 [12800/60000 (21%)]\tLoss: 1.484435\t Accuracy:98.410%\n",
      "Epoch : 15 [19200/60000 (32%)]\tLoss: 1.462173\t Accuracy:98.456%\n",
      "Epoch : 15 [25600/60000 (43%)]\tLoss: 1.469797\t Accuracy:98.568%\n",
      "Epoch : 15 [32000/60000 (53%)]\tLoss: 1.472772\t Accuracy:98.564%\n",
      "Epoch : 15 [38400/60000 (64%)]\tLoss: 1.491979\t Accuracy:98.556%\n",
      "Epoch : 15 [44800/60000 (75%)]\tLoss: 1.468183\t Accuracy:98.546%\n",
      "Epoch : 15 [51200/60000 (85%)]\tLoss: 1.499802\t Accuracy:98.489%\n",
      "Epoch : 15 [57600/60000 (96%)]\tLoss: 1.477313\t Accuracy:98.489%\n",
      "Epoch : 16 [0/60000 (0%)]\tLoss: 1.462773\t Accuracy:100.000%\n",
      "Epoch : 16 [6400/60000 (11%)]\tLoss: 1.499358\t Accuracy:98.585%\n",
      "Epoch : 16 [12800/60000 (21%)]\tLoss: 1.490898\t Accuracy:98.480%\n",
      "Epoch : 16 [19200/60000 (32%)]\tLoss: 1.462551\t Accuracy:98.492%\n",
      "Epoch : 16 [25600/60000 (43%)]\tLoss: 1.469005\t Accuracy:98.611%\n",
      "Epoch : 16 [32000/60000 (53%)]\tLoss: 1.485320\t Accuracy:98.595%\n",
      "Epoch : 16 [38400/60000 (64%)]\tLoss: 1.491601\t Accuracy:98.598%\n",
      "Epoch : 16 [44800/60000 (75%)]\tLoss: 1.472617\t Accuracy:98.579%\n",
      "Epoch : 16 [51200/60000 (85%)]\tLoss: 1.504721\t Accuracy:98.524%\n",
      "Epoch : 16 [57600/60000 (96%)]\tLoss: 1.469423\t Accuracy:98.518%\n",
      "Epoch : 17 [0/60000 (0%)]\tLoss: 1.462593\t Accuracy:100.000%\n",
      "Epoch : 17 [6400/60000 (11%)]\tLoss: 1.497106\t Accuracy:98.523%\n",
      "Epoch : 17 [12800/60000 (21%)]\tLoss: 1.490639\t Accuracy:98.519%\n",
      "Epoch : 17 [19200/60000 (32%)]\tLoss: 1.462515\t Accuracy:98.534%\n",
      "Epoch : 17 [25600/60000 (43%)]\tLoss: 1.468960\t Accuracy:98.638%\n",
      "Epoch : 17 [32000/60000 (53%)]\tLoss: 1.470786\t Accuracy:98.639%\n",
      "Epoch : 17 [38400/60000 (64%)]\tLoss: 1.491634\t Accuracy:98.629%\n",
      "Epoch : 17 [44800/60000 (75%)]\tLoss: 1.469203\t Accuracy:98.615%\n",
      "Epoch : 17 [51200/60000 (85%)]\tLoss: 1.501209\t Accuracy:98.559%\n",
      "Epoch : 17 [57600/60000 (96%)]\tLoss: 1.469612\t Accuracy:98.551%\n",
      "Epoch : 18 [0/60000 (0%)]\tLoss: 1.462265\t Accuracy:100.000%\n",
      "Epoch : 18 [6400/60000 (11%)]\tLoss: 1.500552\t Accuracy:98.554%\n",
      "Epoch : 18 [12800/60000 (21%)]\tLoss: 1.482521\t Accuracy:98.504%\n",
      "Epoch : 18 [19200/60000 (32%)]\tLoss: 1.462283\t Accuracy:98.560%\n",
      "Epoch : 18 [25600/60000 (43%)]\tLoss: 1.466918\t Accuracy:98.685%\n",
      "Epoch : 18 [32000/60000 (53%)]\tLoss: 1.477306\t Accuracy:98.654%\n",
      "Epoch : 18 [38400/60000 (64%)]\tLoss: 1.492252\t Accuracy:98.647%\n",
      "Epoch : 18 [44800/60000 (75%)]\tLoss: 1.467908\t Accuracy:98.637%\n",
      "Epoch : 18 [51200/60000 (85%)]\tLoss: 1.502377\t Accuracy:98.591%\n",
      "Epoch : 18 [57600/60000 (96%)]\tLoss: 1.468280\t Accuracy:98.589%\n",
      "Epoch : 19 [0/60000 (0%)]\tLoss: 1.462831\t Accuracy:100.000%\n",
      "Epoch : 19 [6400/60000 (11%)]\tLoss: 1.499202\t Accuracy:98.476%\n",
      "Epoch : 19 [12800/60000 (21%)]\tLoss: 1.493577\t Accuracy:98.449%\n",
      "Epoch : 19 [19200/60000 (32%)]\tLoss: 1.462997\t Accuracy:98.502%\n",
      "Epoch : 19 [25600/60000 (43%)]\tLoss: 1.463550\t Accuracy:98.631%\n",
      "Epoch : 19 [32000/60000 (53%)]\tLoss: 1.470433\t Accuracy:98.629%\n",
      "Epoch : 19 [38400/60000 (64%)]\tLoss: 1.491820\t Accuracy:98.624%\n",
      "Epoch : 19 [44800/60000 (75%)]\tLoss: 1.467269\t Accuracy:98.610%\n",
      "Epoch : 19 [51200/60000 (85%)]\tLoss: 1.502908\t Accuracy:98.563%\n",
      "Epoch : 19 [57600/60000 (96%)]\tLoss: 1.471075\t Accuracy:98.567%\n"
     ]
    }
   ],
   "source": [
    "train (net2, train_loader, EPOCHS = 20)"
   ]
  },
  {
   "cell_type": "code",
   "execution_count": 50,
   "metadata": {},
   "outputs": [
    {
     "name": "stdout",
     "output_type": "stream",
     "text": [
      "Test accuracy:98.040% \n"
     ]
    }
   ],
   "source": [
    "test(net2, test_loader)"
   ]
  },
  {
   "cell_type": "markdown",
   "metadata": {
    "colab_type": "text",
    "id": "4O_fyaSRRd60"
   },
   "source": [
    "The following code borrows on ideas from Google, read [this article](https://ai.googleblog.com/2015/06/inceptionism-going-deeper-into-neural.html) on Deep Dream.\n",
    "\n",
    "Now we have trained the network to classify all the digits from 0 to 10. But is there a way to visualize what the network has learnt? \n",
    "\n",
    "How about we learn (by backprop + Gradient Descent) the input image after fixing the expected output and all the network parameters. In other words say we want to visualize what 7 looks like to the network. Then we will do the following:\n",
    "1. Initialize image tensor as im (maybe with all zeros).\n",
    "2. Pass the image through the network.\n",
    "3. Compute the loss with output of the net and expected output of 7.\n",
    "4. Run backpropogation upto the image tensor.\n",
    "5. Update the image using the update rule. (Specified by torch.optim object)\n",
    "\n",
    "Note: We are not using training or test data anywhere here!"
   ]
  },
  {
   "cell_type": "code",
   "execution_count": 55,
   "metadata": {
    "colab": {},
    "colab_type": "code",
    "id": "-CT2FsVPEyYM"
   },
   "outputs": [],
   "source": [
    "def train_im(model, train_loader, digit = 7 ,iters = 1000, lossF = None):\n",
    "  \"\"\"\n",
    "  Trains the input image to match the <digit>. Run <iters> iterations of Gradient Descent.  \n",
    "  \"\"\"\n",
    "    im = torch.ones_like(train_data[1][0]).view(1, 1, 28, 28).to(device)\n",
    "    im = Variable(im, requires_grad = True)\n",
    "    digit = Variable(torch.tensor(digit)).to(device).view(1)\n",
    "\n",
    "    optim = torch.optim.Adam ([im, ], lr = 4e-4, weight_decay=0)\n",
    "\n",
    "    if lossF == None:\n",
    "        lossF = nn.CrossEntropyLoss()\n",
    "\n",
    "    for epoch in range(iters):\n",
    "        correct = 0\n",
    "\n",
    "        output = model(im)\n",
    "        loss = lossF (output, digit)\n",
    "\n",
    "        loss.backward()\n",
    "\n",
    "        optim.step()\n",
    "        optim.zero_grad() \n",
    "\n",
    "    return im"
   ]
  },
  {
   "cell_type": "code",
   "execution_count": 52,
   "metadata": {
    "colab": {},
    "colab_type": "code",
    "id": "-hcvC3TlR3Zs"
   },
   "outputs": [
    {
     "data": {
      "text/plain": [
       "<matplotlib.image.AxesImage at 0x7fd1703e9198>"
      ]
     },
     "execution_count": 52,
     "metadata": {},
     "output_type": "execute_result"
    },
    {
     "data": {
      "image/png": "[encoded data removed]",
      "text/plain": [
       "<Figure size 432x288 with 1 Axes>"
      ]
     },
     "metadata": {
      "needs_background": "light"
     },
     "output_type": "display_data"
    }
   ],
   "source": [
    "## Let's run our function for 7 and see what image we get.\n",
    "\n",
    "im = train_im (net, train_loader, digit=7, iters = 10000)\n",
    "im = np.asarray(im.view(28, 28).cpu().detach())\n",
    "plt.imshow(im)"
   ]
  },
  {
   "cell_type": "markdown",
   "metadata": {
    "colab_type": "text",
    "id": "neETLR1Ub0my"
   },
   "source": [
    "In the the following cell we will run the function for all the digits from 0 to 9 and print the outputs "
   ]
  },
  {
   "cell_type": "code",
   "execution_count": 53,
   "metadata": {
    "colab": {},
    "colab_type": "code",
    "id": "cPoDpHbvZ9TE",
    "scrolled": false
   },
   "outputs": [
    {
     "name": "stdout",
     "output_type": "stream",
     "text": [
      "0\n"
     ]
    },
    {
     "data": {
      "image/png": "[encoded data removed]",
      "text/plain": [
       "<Figure size 432x288 with 1 Axes>"
      ]
     },
     "metadata": {
      "needs_background": "light"
     },
     "output_type": "display_data"
    },
    {
     "name": "stdout",
     "output_type": "stream",
     "text": [
      "1\n"
     ]
    },
    {
     "data": {
      "image/png": "[encoded data removed]",
      "text/plain": [
       "<Figure size 432x288 with 1 Axes>"
      ]
     },
     "metadata": {
      "needs_background": "light"
     },
     "output_type": "display_data"
    },
    {
     "name": "stdout",
     "output_type": "stream",
     "text": [
      "2\n"
     ]
    },
    {
     "data": {
      "image/png": "[encoded data removed]",
      "text/plain": [
       "<Figure size 432x288 with 1 Axes>"
      ]
     },
     "metadata": {
      "needs_background": "light"
     },
     "output_type": "display_data"
    },
    {
     "name": "stdout",
     "output_type": "stream",
     "text": [
      "3\n"
     ]
    },
    {
     "data": {
      "image/png": "[encoded data removed]",
      "text/plain": [
       "<Figure size 432x288 with 1 Axes>"
      ]
     },
     "metadata": {
      "needs_background": "light"
     },
     "output_type": "display_data"
    },
    {
     "name": "stdout",
     "output_type": "stream",
     "text": [
      "4\n"
     ]
    },
    {
     "data": {
      "image/png": "[encoded data removed]",
      "text/plain": [
       "<Figure size 432x288 with 1 Axes>"
      ]
     },
     "metadata": {
      "needs_background": "light"
     },
     "output_type": "display_data"
    },
    {
     "name": "stdout",
     "output_type": "stream",
     "text": [
      "5\n"
     ]
    },
    {
     "data": {
      "image/png": "[encoded data removed]",
      "text/plain": [
       "<Figure size 432x288 with 1 Axes>"
      ]
     },
     "metadata": {
      "needs_background": "light"
     },
     "output_type": "display_data"
    },
    {
     "name": "stdout",
     "output_type": "stream",
     "text": [
      "6\n"
     ]
    },
    {
     "data": {
      "image/png": "[encoded data removed]",
      "text/plain": [
       "<Figure size 432x288 with 1 Axes>"
      ]
     },
     "metadata": {
      "needs_background": "light"
     },
     "output_type": "display_data"
    },
    {
     "name": "stdout",
     "output_type": "stream",
     "text": [
      "7\n"
     ]
    },
    {
     "data": {
      "image/png": "[encoded data removed]",
      "text/plain": [
       "<Figure size 432x288 with 1 Axes>"
      ]
     },
     "metadata": {
      "needs_background": "light"
     },
     "output_type": "display_data"
    },
    {
     "name": "stdout",
     "output_type": "stream",
     "text": [
      "8\n"
     ]
    },
    {
     "data": {
      "image/png": "[encoded data removed]",
      "text/plain": [
       "<Figure size 432x288 with 1 Axes>"
      ]
     },
     "metadata": {
      "needs_background": "light"
     },
     "output_type": "display_data"
    },
    {
     "name": "stdout",
     "output_type": "stream",
     "text": [
      "9\n"
     ]
    },
    {
     "data": {
      "image/png": "[encoded data removed]",
      "text/plain": [
       "<Figure size 432x288 with 1 Axes>"
      ]
     },
     "metadata": {
      "needs_background": "light"
     },
     "output_type": "display_data"
    }
   ],
   "source": [
    "for i in range (10):\n",
    "    im = train_im (net, train_loader, digit=i, iters=10000)\n",
    "    im = np.asarray(im.view(28, 28).cpu().detach())\n",
    "    print (i)\n",
    "    plt.imshow(im)\n",
    "    plt.show()"
   ]
  },
  {
   "cell_type": "code",
   "execution_count": 56,
   "metadata": {
    "scrolled": false
   },
   "outputs": [
    {
     "name": "stdout",
     "output_type": "stream",
     "text": [
      "0\n"
     ]
    },
    {
     "data": {
      "image/png": "[encoded data removed]",
      "text/plain": [
       "<Figure size 432x288 with 1 Axes>"
      ]
     },
     "metadata": {
      "needs_background": "light"
     },
     "output_type": "display_data"
    },
    {
     "name": "stdout",
     "output_type": "stream",
     "text": [
      "1\n"
     ]
    },
    {
     "data": {
      "image/png": "[encoded data removed]",
      "text/plain": [
       "<Figure size 432x288 with 1 Axes>"
      ]
     },
     "metadata": {
      "needs_background": "light"
     },
     "output_type": "display_data"
    },
    {
     "name": "stdout",
     "output_type": "stream",
     "text": [
      "2\n"
     ]
    },
    {
     "data": {
      "image/png": "[encoded data removed]",
      "text/plain": [
       "<Figure size 432x288 with 1 Axes>"
      ]
     },
     "metadata": {
      "needs_background": "light"
     },
     "output_type": "display_data"
    },
    {
     "name": "stdout",
     "output_type": "stream",
     "text": [
      "3\n"
     ]
    },
    {
     "data": {
      "image/png": "[encoded data removed]",
      "text/plain": [
       "<Figure size 432x288 with 1 Axes>"
      ]
     },
     "metadata": {
      "needs_background": "light"
     },
     "output_type": "display_data"
    },
    {
     "name": "stdout",
     "output_type": "stream",
     "text": [
      "4\n"
     ]
    },
    {
     "data": {
      "image/png": "[encoded data removed]",
      "text/plain": [
       "<Figure size 432x288 with 1 Axes>"
      ]
     },
     "metadata": {
      "needs_background": "light"
     },
     "output_type": "display_data"
    },
    {
     "name": "stdout",
     "output_type": "stream",
     "text": [
      "5\n"
     ]
    },
    {
     "data": {
      "image/png": "[encoded data removed]",
      "text/plain": [
       "<Figure size 432x288 with 1 Axes>"
      ]
     },
     "metadata": {
      "needs_background": "light"
     },
     "output_type": "display_data"
    },
    {
     "name": "stdout",
     "output_type": "stream",
     "text": [
      "6\n"
     ]
    },
    {
     "data": {
      "image/png": "[encoded data removed]",
      "text/plain": [
       "<Figure size 432x288 with 1 Axes>"
      ]
     },
     "metadata": {
      "needs_background": "light"
     },
     "output_type": "display_data"
    },
    {
     "name": "stdout",
     "output_type": "stream",
     "text": [
      "7\n"
     ]
    },
    {
     "data": {
      "image/png": "[encoded data removed]",
      "text/plain": [
       "<Figure size 432x288 with 1 Axes>"
      ]
     },
     "metadata": {
      "needs_background": "light"
     },
     "output_type": "display_data"
    },
    {
     "name": "stdout",
     "output_type": "stream",
     "text": [
      "8\n"
     ]
    },
    {
     "data": {
      "image/png": "[encoded data removed]",
      "text/plain": [
       "<Figure size 432x288 with 1 Axes>"
      ]
     },
     "metadata": {
      "needs_background": "light"
     },
     "output_type": "display_data"
    },
    {
     "name": "stdout",
     "output_type": "stream",
     "text": [
      "9\n"
     ]
    },
    {
     "data": {
      "image/png": "[encoded data removed]",
      "text/plain": [
       "<Figure size 432x288 with 1 Axes>"
      ]
     },
     "metadata": {
      "needs_background": "light"
     },
     "output_type": "display_data"
    }
   ],
   "source": [
    "# Same Procedure as above, but with the better performing model. The features learned are not as smooth for the better model imo\n",
    "for i in range (10):\n",
    "    im = train_im (net2, train_loader, digit=i, iters=10000)\n",
    "    im = np.asarray(im.view(28, 28).cpu().detach())\n",
    "    print (i)\n",
    "    plt.imshow(im)\n",
    "    plt.show()"
   ]
  }
 ],
 "metadata": {
  "accelerator": "GPU",
  "colab": {
   "name": "MNIST_PS.ipynb",
   "provenance": []
  },
  "kernelspec": {
   "display_name": "Python 3",
   "language": "python",
   "name": "python3"
  },
  "language_info": {
   "codemirror_mode": {
    "name": "ipython",
    "version": 3
   },
   "file_extension": ".py",
   "mimetype": "text/x-python",
   "name": "python",
   "nbconvert_exporter": "python",
   "pygments_lexer": "ipython3",
   "version": "3.7.7"
  }
 },
 "nbformat": 4,
 "nbformat_minor": 1
}
